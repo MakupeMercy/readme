{
  "cells": [
    {
      "cell_type": "markdown",
      "metadata": {
        "id": "view-in-github",
        "colab_type": "text"
      },
      "source": [
        "<a href=\"https://colab.research.google.com/github/MakupeMercy/readme/blob/main/Copy_of_Multilenear.ipynb\" target=\"_parent\"><img src=\"https://colab.research.google.com/assets/colab-badge.svg\" alt=\"Open In Colab\"/></a>"
      ]
    },
    {
      "cell_type": "markdown",
      "metadata": {
        "id": "-3IUPWk7heTf"
      },
      "source": [
        "//import libraries"
      ]
    },
    {
      "cell_type": "code",
      "execution_count": 2,
      "metadata": {
        "id": "R3Xs6ujthiyW"
      },
      "outputs": [],
      "source": [
        "import pandas as pd\n",
        "import numpy as np"
      ]
    },
    {
      "cell_type": "markdown",
      "metadata": {
        "id": "1B0TPu-zh_zs"
      },
      "source": [
        "read the csv file"
      ]
    },
    {
      "cell_type": "code",
      "execution_count": 3,
      "metadata": {
        "colab": {
          "base_uri": "https://localhost:8080/"
        },
        "id": "eRFMlHh0iEJw",
        "outputId": "3f02f730-850d-48ec-f919-26014db54f71"
      },
      "outputs": [
        {
          "output_type": "execute_result",
          "data": {
            "text/plain": [
              "<bound method DataFrame.info of        AT      V       AP     RH      PE\n",
              "0   14.96  41.76  1024.07  73.17  463.26\n",
              "1   25.18  62.96  1020.04  59.08  444.37\n",
              "2    5.11  39.40  1012.16  92.14  488.56\n",
              "3   20.86  57.32  1010.24  76.64  446.48\n",
              "4   10.82  37.50  1009.23  96.62  473.90\n",
              "5   26.27  59.44  1012.23  58.77  443.67\n",
              "6   15.89  43.96  1014.02  75.24  467.35\n",
              "7    9.48  44.71  1019.12  66.43  478.42\n",
              "8   14.64  45.00  1021.78  41.25  475.98\n",
              "9   11.74  43.56  1015.14  70.72  477.50\n",
              "10  17.99  43.72  1008.64  75.04  453.02\n",
              "11  20.14  46.93  1014.66  64.22  453.99\n",
              "12  24.34  73.50  1011.31  84.15  440.29\n",
              "13  25.71  58.59  1012.77  61.83  451.28>"
            ]
          },
          "metadata": {},
          "execution_count": 3
        }
      ],
      "source": [
        "data=pd.read_csv('CPP data.csv')\n",
        "data.info\n"
      ]
    },
    {
      "cell_type": "markdown",
      "metadata": {
        "id": "bxIKDSf2jLEs"
      },
      "source": [
        "Determine the target and feature variables (x and y)\n",
        "\n"
      ]
    },
    {
      "cell_type": "code",
      "execution_count": 4,
      "metadata": {
        "id": "Y728CsuGjQRC"
      },
      "outputs": [],
      "source": [
        "x= data.drop(['PE'],axis=1).values\n",
        "y = data['PE'].values"
      ]
    },
    {
      "cell_type": "markdown",
      "metadata": {
        "id": "ikTbFB-XkpOR"
      },
      "source": [
        "printing the x and y values"
      ]
    },
    {
      "cell_type": "code",
      "execution_count": 5,
      "metadata": {
        "colab": {
          "base_uri": "https://localhost:8080/"
        },
        "id": "bI_0cm3-kyLn",
        "outputId": "49975cad-56c8-4878-e244-5a5e8dc7fabc"
      },
      "outputs": [
        {
          "output_type": "stream",
          "name": "stdout",
          "text": [
            "[[  14.96   41.76 1024.07   73.17]\n",
            " [  25.18   62.96 1020.04   59.08]\n",
            " [   5.11   39.4  1012.16   92.14]\n",
            " [  20.86   57.32 1010.24   76.64]\n",
            " [  10.82   37.5  1009.23   96.62]\n",
            " [  26.27   59.44 1012.23   58.77]\n",
            " [  15.89   43.96 1014.02   75.24]\n",
            " [   9.48   44.71 1019.12   66.43]\n",
            " [  14.64   45.   1021.78   41.25]\n",
            " [  11.74   43.56 1015.14   70.72]\n",
            " [  17.99   43.72 1008.64   75.04]\n",
            " [  20.14   46.93 1014.66   64.22]\n",
            " [  24.34   73.5  1011.31   84.15]\n",
            " [  25.71   58.59 1012.77   61.83]]\n"
          ]
        }
      ],
      "source": [
        "print(x)"
      ]
    },
    {
      "cell_type": "code",
      "execution_count": 6,
      "metadata": {
        "colab": {
          "base_uri": "https://localhost:8080/"
        },
        "id": "VbtX4idLk3Zw",
        "outputId": "d84c3eee-5e79-41d6-cd0e-76e114ee65dd"
      },
      "outputs": [
        {
          "output_type": "stream",
          "name": "stdout",
          "text": [
            "[463.26 444.37 488.56 446.48 473.9  443.67 467.35 478.42 475.98 477.5\n",
            " 453.02 453.99 440.29 451.28]\n"
          ]
        }
      ],
      "source": [
        "print(y)"
      ]
    },
    {
      "cell_type": "markdown",
      "metadata": {
        "id": "DV8M1-8plOma"
      },
      "source": [
        "splitting the data into training and testint set"
      ]
    },
    {
      "cell_type": "code",
      "execution_count": 7,
      "metadata": {
        "id": "ggoc7cYilUzr"
      },
      "outputs": [],
      "source": [
        "from sklearn.model_selection import train_test_split\n",
        "x_train,x_test,y_train,y_test=train_test_split(x,y, test_size=0.25,random_state=0)"
      ]
    },
    {
      "cell_type": "markdown",
      "metadata": {
        "id": "n5t155y2mr4o"
      },
      "source": [
        "create a multilinear regression model and fit it with the existing data.(Training the model) "
      ]
    },
    {
      "cell_type": "code",
      "execution_count": 8,
      "metadata": {
        "colab": {
          "base_uri": "https://localhost:8080/"
        },
        "id": "-p1KoN4Wm7Dn",
        "outputId": "2968546d-f01f-4865-8b88-48fbd8925020"
      },
      "outputs": [
        {
          "output_type": "execute_result",
          "data": {
            "text/plain": [
              "LinearRegression()"
            ]
          },
          "metadata": {},
          "execution_count": 8
        }
      ],
      "source": [
        "from sklearn.linear_model import LinearRegression\n",
        "model=LinearRegression()\n",
        "model.fit(x_train,y_train)\n",
        "\n"
      ]
    },
    {
      "cell_type": "markdown",
      "metadata": {
        "id": "FMa5fxy4uf4s"
      },
      "source": [
        "predict the test results"
      ]
    },
    {
      "cell_type": "code",
      "execution_count": 9,
      "metadata": {
        "colab": {
          "base_uri": "https://localhost:8080/"
        },
        "id": "0KZB0RJXuelQ",
        "outputId": "d1676cee-eb58-41e1-cd8d-e4dbfb5dfd5a"
      },
      "outputs": [
        {
          "output_type": "stream",
          "name": "stdout",
          "text": [
            "[478.19882054 462.25201462 467.18543173 455.56832604]\n"
          ]
        }
      ],
      "source": [
        "y_pred = model.predict(x_test)\n",
        "print(y_pred)"
      ]
    },
    {
      "cell_type": "markdown",
      "metadata": {
        "id": "NIyNVKRkxtRX"
      },
      "source": [
        "Check the results of the model fitting to know whether the model is satisifactory"
      ]
    },
    {
      "cell_type": "code",
      "execution_count": 10,
      "metadata": {
        "colab": {
          "base_uri": "https://localhost:8080/"
        },
        "id": "dqdmr_IVw3jL",
        "outputId": "dba4f406-90d6-47f9-fc2b-b5efa54c8e6a"
      },
      "outputs": [
        {
          "output_type": "execute_result",
          "data": {
            "text/plain": [
              "array([425.36216937])"
            ]
          },
          "metadata": {},
          "execution_count": 10
        }
      ],
      "source": [
        "y=model.predict([[26.7,60,1100,60]])\n",
        "y"
      ]
    },
    {
      "cell_type": "code",
      "execution_count": 11,
      "metadata": {
        "colab": {
          "base_uri": "https://localhost:8080/"
        },
        "id": "RM6tPqzCx841",
        "outputId": "3b3e818c-2474-4c41-dab5-0c088415c7a5"
      },
      "outputs": [
        {
          "output_type": "execute_result",
          "data": {
            "text/plain": [
              "array([460.22799839])"
            ]
          },
          "metadata": {},
          "execution_count": 11
        }
      ],
      "source": [
        "y=model.predict([[15.96,\t42.76,\t1025.07,\t74.17]])\n",
        "y\n"
      ]
    },
    {
      "cell_type": "markdown",
      "metadata": {
        "id": "QNdX6wJF0QYo"
      },
      "source": [
        "Evaluating the model"
      ]
    },
    {
      "cell_type": "code",
      "execution_count": 12,
      "metadata": {
        "colab": {
          "base_uri": "https://localhost:8080/"
        },
        "id": "j-8EtcMU0Uiy",
        "outputId": "b93d3728-91eb-49e6-8089-f3bd5a768d99"
      },
      "outputs": [
        {
          "output_type": "execute_result",
          "data": {
            "text/plain": [
              "0.7339719352791105"
            ]
          },
          "metadata": {},
          "execution_count": 12
        }
      ],
      "source": [
        "from sklearn.metrics import r2_score\n",
        "r2_score(y_test,y_pred)"
      ]
    },
    {
      "cell_type": "markdown",
      "metadata": {
        "id": "kPx8uGza5ziV"
      },
      "source": [
        "ploting the model"
      ]
    },
    {
      "cell_type": "code",
      "execution_count": 14,
      "metadata": {
        "colab": {
          "base_uri": "https://localhost:8080/",
          "height": 513
        },
        "id": "b8A_Mejx53sy",
        "outputId": "81d45752-32d5-4453-e6c5-1be9a5d1a4c8"
      },
      "outputs": [
        {
          "output_type": "display_data",
          "data": {
            "text/plain": [
              "<Figure size 720x576 with 1 Axes>"
            ],
            "image/png": "[encoded data removed]"
          },
          "metadata": {
            "needs_background": "light"
          }
        }
      ],
      "source": [
        "import matplotlib.pyplot as plt\n",
        "plt.figure(figsize=(10,8))\n",
        "plt.scatter(y_test,y_pred)\n",
        "plt.plot(y_test,y_test)\n",
        "plt.xlabel('Actual')\n",
        "plt.ylabel('Predicted')\n",
        "plt.title('Actual vs Predicted')\n",
        "plt.show()\n",
        "\n",
        "\n"
      ]
    }
  ],
  "metadata": {
    "colab": {
      "collapsed_sections": [],
      "name": "Copy of Multilenear.ipynb",
      "provenance": [],
      "authorship_tag": "ABX9TyMFIuRdK68tDDY67dOZpvIr",
      "include_colab_link": true
    },
    "kernelspec": {
      "display_name": "Python 3",
      "name": "python3"
    },
    "language_info": {
      "name": "python"
    }
  },
  "nbformat": 4,
  "nbformat_minor": 0
}